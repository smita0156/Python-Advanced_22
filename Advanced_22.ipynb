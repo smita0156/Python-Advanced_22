{
 "cells": [
  {
   "cell_type": "code",
   "execution_count": null,
   "id": "e7cebcbf-b4df-4cf2-af72-0872ba4f14b8",
   "metadata": {},
   "outputs": [],
   "source": [
    "Q1. What are the benefits of the built-in array package, if any?"
   ]
  },
  {
   "cell_type": "code",
   "execution_count": null,
   "id": "d654013f-bfef-4869-9ab8-5cc3683d1515",
   "metadata": {},
   "outputs": [],
   "source": [
    "Ans: Arrays represent multiple data items of the same type using a single name. In arrays, the elements can be accessed randomly by using the index number. Arrays allocate memory in contiguous memory locations for all its elements. Hence there is no chance of extra memory being allocated in case of arrays. This avoids memory overflow or shortage of memory in arrays."
   ]
  },
  {
   "cell_type": "code",
   "execution_count": null,
   "id": "4aa05ac6-c58c-40ae-84e6-70ae1a930406",
   "metadata": {},
   "outputs": [],
   "source": [
    "Q2. What are some of the array package&#39;s limitations?"
   ]
  },
  {
   "cell_type": "code",
   "execution_count": null,
   "id": "16e66202-f422-4a23-bf51-66799ad28b2e",
   "metadata": {},
   "outputs": [],
   "source": [
    "Ans: The number of elements to be stored in an array should be known in advance. An array is a static structure (which means the array is of fixed size). Once declared the size of the array cannot be modified. The memory which is allocated to it cannot be increased or decreased.\n",
    "\n",
    "Insertion and deletion are quite difficult in an array as the elements are stored in consecutive memory locations and the shifting operation is costly.\n",
    "\n",
    "Allocating more memory than the requirement leads to wastage of memory space and less allocation of memory also leads to a problem."
   ]
  },
  {
   "cell_type": "code",
   "execution_count": null,
   "id": "58a47e35-6b88-488c-8973-ea5fc8a8d49b",
   "metadata": {},
   "outputs": [],
   "source": [
    "Q3. Describe the main differences between the array and numpy packages."
   ]
  },
  {
   "cell_type": "code",
   "execution_count": null,
   "id": "5861020e-e61f-4fee-b861-811c3cc77933",
   "metadata": {},
   "outputs": [],
   "source": [
    "Ans: The array package doesn't provide any help with numerical calculation with the items insdie it in number form while NumPy give you a wide variety of numerical operations.\n",
    "\n",
    "An array is a single dimensional entity which hold the numerical data, while numpy can have more than 1 dimension.\n",
    "\n",
    "In case of array, item can be accessed by its index position and it is easy task while in numpy item is accessed by its column and row index, which makes it slightly time taking. Same goes with appending operation.\n",
    "\n",
    "In case of array we do not form a tabular structure, while in numpy it forms a tabular structure."
   ]
  },
  {
   "cell_type": "code",
   "execution_count": null,
   "id": "b4f8bac9-8350-4f4e-964d-9bc9339c74a8",
   "metadata": {},
   "outputs": [],
   "source": [
    "Q4. Explain the distinctions between the empty, ones, and zeros functions."
   ]
  },
  {
   "cell_type": "code",
   "execution_count": null,
   "id": "d07201a7-8361-4347-94c2-a5acd7c8c91b",
   "metadata": {},
   "outputs": [],
   "source": [
    "Ans: The distinctions between the empty, ones, and zero functions are as follows :\n",
    "\n",
    "Empty function: An empty function is a function that does not contain any statement within its body. If you try to write a function definition without any statement in python ,it will return an error. To avoid this, we use pass statement. pass is a special statement in Python that does nothing. It only works as a dummy statement.\n",
    "Ones: This function returns a new array of given shape and data type, where the element’s value is 1.\n",
    "Zeros: This function returns a new array of given shape and data type, where the element’s value is 0."
   ]
  },
  {
   "cell_type": "code",
   "execution_count": null,
   "id": "98b448ad-be15-4dd5-a69a-49b637574624",
   "metadata": {},
   "outputs": [],
   "source": [
    "Q5. In the fromfunction function, which is used to construct new arrays, what is the role of the callable\n",
    "argument?"
   ]
  },
  {
   "cell_type": "code",
   "execution_count": null,
   "id": "725bee18-bb6b-4ecc-9b8d-2fa69a6efda0",
   "metadata": {},
   "outputs": [],
   "source": [
    "Ans: Its function is to execute the function over each coordinate and the resulting array. The function is called with N parameters, where N is the rank of shape. Each parameter represents the coordinates of the array varying along a specific axis."
   ]
  },
  {
   "cell_type": "code",
   "execution_count": null,
   "id": "b1a22669-e5bb-4976-a3f5-0f3ce29f86e9",
   "metadata": {},
   "outputs": [],
   "source": [
    "Q6. What happens when a numpy array is combined with a single-value operand (a scalar, such as\n",
    "an int or a floating-point value) through addition, as in the expression A + n?"
   ]
  },
  {
   "cell_type": "code",
   "execution_count": null,
   "id": "d0fd0c23-473f-421f-b9da-38a687606317",
   "metadata": {},
   "outputs": [],
   "source": [
    "Ans: If any scaler value such as integer is added to the numpy array then all the elements inside the array will add that value in it."
   ]
  },
  {
   "cell_type": "code",
   "execution_count": null,
   "id": "abe50b21-c0c3-46d2-9258-f9e1d2789318",
   "metadata": {},
   "outputs": [],
   "source": [
    "Q7. Can array-to-scalar operations use combined operation-assign operators (such as += or *=)?\n",
    "What is the outcome?"
   ]
  },
  {
   "cell_type": "code",
   "execution_count": null,
   "id": "457da88b-ac88-495e-a7e1-b49a5e6f40c1",
   "metadata": {},
   "outputs": [],
   "source": [
    "Ans: It will carry out provided operation on all elements of array."
   ]
  },
  {
   "cell_type": "code",
   "execution_count": null,
   "id": "31c2a79d-6921-4ab9-a84e-a4d11c50eb66",
   "metadata": {},
   "outputs": [],
   "source": [
    "Q8. Does a numpy array contain fixed-length strings? What happens if you allocate a longer string to\n",
    "one of these arrays?"
   ]
  },
  {
   "cell_type": "code",
   "execution_count": null,
   "id": "c225226e-2170-4531-96b1-bfd7e3347c74",
   "metadata": {},
   "outputs": [],
   "source": [
    "Ans: : Yes, it is possible that we can include a string of fixed length in numpy array. The dtype of any numpy array containing string values is the maximum length of any string present in the array.Once set, it will only be able to store new string having length not more than the maximum length at the time of the creation. If we try to reassign some another string value having length greater than the maximum length of the existing elements, it simply discards all the values beyond the maximum length accept upto those values which are under the limit."
   ]
  },
  {
   "cell_type": "code",
   "execution_count": null,
   "id": "dca62ff2-67bb-4ce2-8454-a0f4425d8ac6",
   "metadata": {},
   "outputs": [],
   "source": [
    "Q9. What happens when you combine two numpy arrays using an operation like addition (+) or\n",
    "multiplication (*)? What are the conditions for combining two numpy arrays?"
   ]
  },
  {
   "cell_type": "code",
   "execution_count": null,
   "id": "3f26d6a1-4587-4425-a33e-49b462d6c936",
   "metadata": {},
   "outputs": [],
   "source": [
    "Ans: It will simply add or multiply element to element at same position."
   ]
  },
  {
   "cell_type": "code",
   "execution_count": null,
   "id": "fd99028e-2fb2-45e2-8d3a-6393939be82f",
   "metadata": {},
   "outputs": [],
   "source": [
    "Q10. What is the best way to use a Boolean array to mask another array?"
   ]
  },
  {
   "cell_type": "code",
   "execution_count": null,
   "id": "75dce376-54cc-44c6-abe7-53e19f9e4e15",
   "metadata": {},
   "outputs": [],
   "source": [
    "Ans: The best way to use a Boolean array to mask another array is by Using masked_where of numpy package"
   ]
  },
  {
   "cell_type": "code",
   "execution_count": null,
   "id": "992b09a0-9615-44fa-96cd-a5eafd3b540d",
   "metadata": {},
   "outputs": [],
   "source": [
    "Q11. What are three different ways to get the standard deviation of a wide collection of data using\n",
    "both standard Python and its packages? Sort the three of them by how quickly they execute."
   ]
  },
  {
   "cell_type": "code",
   "execution_count": null,
   "id": "354e5cd9-0a6c-4ff7-ab75-f0c4b57aedd3",
   "metadata": {},
   "outputs": [],
   "source": [
    "Ans: np.std and math package can be used individually."
   ]
  },
  {
   "cell_type": "code",
   "execution_count": null,
   "id": "4387dc24-f2c5-4fca-ac8a-540d9831902d",
   "metadata": {},
   "outputs": [],
   "source": [
    "12. What is the dimensionality of a Boolean mask-generated array?"
   ]
  },
  {
   "cell_type": "code",
   "execution_count": null,
   "id": "e3c2d5f7-7aa1-492f-8b13-2bdffe62e0d7",
   "metadata": {},
   "outputs": [],
   "source": [
    "Ans: It will have same dimensionality as input array."
   ]
  },
  {
   "cell_type": "code",
   "execution_count": null,
   "id": "9c5c76ab-3b82-407a-b287-508869750bbd",
   "metadata": {},
   "outputs": [],
   "source": []
  }
 ],
 "metadata": {
  "kernelspec": {
   "display_name": "Python 3 (ipykernel)",
   "language": "python",
   "name": "python3"
  },
  "language_info": {
   "codemirror_mode": {
    "name": "ipython",
    "version": 3
   },
   "file_extension": ".py",
   "mimetype": "text/x-python",
   "name": "python",
   "nbconvert_exporter": "python",
   "pygments_lexer": "ipython3",
   "version": "3.10.6"
  }
 },
 "nbformat": 4,
 "nbformat_minor": 5
}
